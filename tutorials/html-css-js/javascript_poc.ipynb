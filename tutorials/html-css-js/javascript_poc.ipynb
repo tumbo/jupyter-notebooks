{
 "cells": [
  {
   "cell_type": "markdown",
   "metadata": {},
   "source": [
    "# Use a Jupyter Notebook as a Psuedo Web Server to Serve HTML, CSS, and JavaScript"
   ]
  },
  {
   "cell_type": "markdown",
   "metadata": {},
   "source": [
    "#### This notebook shows a method for working with html, jQuery, bootstrap CSS, and various javascript libraries.  The web files can sit in the jupyter folder structure as they would on simple website, and be served via the Jupyter runtime."
   ]
  },
  {
   "cell_type": "markdown",
   "metadata": {},
   "source": [
    "First thing, import the python \"requests\" library and methods for rendering HTML. Also import the display and HTML methods from IPython.display"
   ]
  },
  {
   "cell_type": "code",
   "execution_count": 1,
   "metadata": {
    "collapsed": true
   },
   "outputs": [],
   "source": [
    "import requests"
   ]
  },
  {
   "cell_type": "code",
   "execution_count": 2,
   "metadata": {
    "collapsed": true
   },
   "outputs": [],
   "source": [
    "from IPython.display import Javascript, display, HTML"
   ]
  },
  {
   "cell_type": "markdown",
   "metadata": {},
   "source": [
    "This next part is a bit of hackery to get the url for the notebook so we can do http requests on various files. We'll use javascript magicks to get the url to our current filepath and use the kernel execute command to create a variable to use within our Jupyter (Python 3) environment"
   ]
  },
  {
   "cell_type": "code",
   "execution_count": 3,
   "metadata": {
    "collapsed": false
   },
   "outputs": [
    {
     "data": {
      "application/javascript": [
       "var nb = IPython.notebook;\n",
       "var kernel = IPython.notebook.kernel;\n",
       "var webPath = nb.notebook_path.replace(nb.notebook_name,'');\n",
       "var webOrigin = location.origin;\n",
       "var fullPath = webOrigin + '/notebooks/' + webPath;\n",
       "console.log(fullPath)\n",
       "kernel.execute(\"NOTEBOOK_URL = '\" + fullPath + \"'\");"
      ],
      "text/plain": [
       "<IPython.core.display.Javascript object>"
      ]
     },
     "metadata": {},
     "output_type": "display_data"
    }
   ],
   "source": [
    "%%javascript\n",
    "var nb = IPython.notebook;\n",
    "var kernel = IPython.notebook.kernel;\n",
    "var webPath = nb.notebook_path.replace(nb.notebook_name,'');\n",
    "var webOrigin = location.origin;\n",
    "var fullPath = webOrigin + '/notebooks/' + webPath;\n",
    "console.log(fullPath)\n",
    "kernel.execute(\"NOTEBOOK_URL = '\" + fullPath + \"'\");"
   ]
  },
  {
   "cell_type": "markdown",
   "metadata": {},
   "source": [
    "Print out the URL to confirm"
   ]
  },
  {
   "cell_type": "code",
   "execution_count": 4,
   "metadata": {
    "collapsed": false
   },
   "outputs": [
    {
     "name": "stdout",
     "output_type": "stream",
     "text": [
      "http://192.168.99.100:8888/notebooks/mywork/jupyter-notebooks/tutorials/html-css-js/\n"
     ]
    }
   ],
   "source": [
    "print(NOTEBOOK_URL)"
   ]
  },
  {
   "cell_type": "markdown",
   "metadata": {},
   "source": [
    "Now, to do an http request on our first sample html... test.html"
   ]
  },
  {
   "cell_type": "code",
   "execution_count": 5,
   "metadata": {
    "collapsed": false
   },
   "outputs": [
    {
     "name": "stdout",
     "output_type": "stream",
     "text": [
      "<html>\n",
      "<head></head>\n",
      "\n",
      "<body>\n",
      "    <h4>POC Demo!!!!</h4>\n",
      "</body>\n",
      "\n",
      "</html>\n"
     ]
    }
   ],
   "source": [
    "r = requests.get(NOTEBOOK_URL + 'test.html')\n",
    "print(r.text)"
   ]
  },
  {
   "cell_type": "markdown",
   "metadata": {},
   "source": [
    "Printing out the HTML via the text attr is not necessary, but done to show the content of the html file. Now, we'll actually display it in the browser using the \"display\" and HTML methods imported above"
   ]
  },
  {
   "cell_type": "code",
   "execution_count": 6,
   "metadata": {
    "collapsed": false
   },
   "outputs": [
    {
     "data": {
      "text/html": [
       "<html>\n",
       "<head></head>\n",
       "\n",
       "<body>\n",
       "    <h4>POC Demo!!!!</h4>\n",
       "</body>\n",
       "\n",
       "</html>"
      ],
      "text/plain": [
       "<IPython.core.display.HTML object>"
      ]
     },
     "metadata": {},
     "output_type": "display_data"
    }
   ],
   "source": [
    "display(HTML(r.text))"
   ]
  },
  {
   "cell_type": "markdown",
   "metadata": {},
   "source": [
    "### Now let's do something more complicated using imported CSS and JavaScript"
   ]
  },
  {
   "cell_type": "markdown",
   "metadata": {},
   "source": [
    "The file intermediate-demo.html contains includes for external css and javascript libraries. However, you don't need to reference each one separately. As before, just do an http request to the page, then render via display(HTML()), and voila!"
   ]
  },
  {
   "cell_type": "code",
   "execution_count": 7,
   "metadata": {
    "collapsed": false
   },
   "outputs": [
    {
     "data": {
      "text/html": [
       "<html>\n",
       "<head>\n",
       "\t<title>Jupyter</title>\n",
       "\t<link rel=\"stylesheet\" type=\"text/css\" href=\"resources/bootstrap.min.css\">\n",
       "\t<style type=\"text/css\">\n",
       "\t\th1,h2,h3,h4,h5,h6,p {\n",
       "\t\t\tfont-family: questrial, sans-serif !important;\n",
       "\t\t}\n",
       "\t\t#andrew {\n",
       "\t\t\tmargin-top: 10px;\n",
       "\t\t\tborder: 1px solid #ccc;\n",
       "\t\t}\n",
       "\t</style>\n",
       "</head>\n",
       "<body>\n",
       "\t<script type=\"text/javascript\" src=\"resources/jquery.min.js\"></script>\n",
       "\t<script type=\"text/javascript\" src=\"resources/bootstrap.min.js\"></script>\n",
       "\t<script type=\"text/javascript\" src=\"resources/intermediate-app.js\"></script>\n",
       "\t\n",
       "\n",
       "\t<h2>Intermediate Demo</h2>\n",
       "\t<div id=\"foo\"></div>\n",
       "\n",
       "\t<h2>Bootstrap Responsive Grid</h2>\n",
       "\t<p>Resize your browser window to see it in action</p>\n",
       "\t<div class=\"row\">\n",
       "\t  <div class=\"col-xs-6 col-sm-4 col-md-3\"><img src=\"resources/images/demo-pie.png\"></div>\n",
       "\t  <div class=\"col-xs-6 col-sm-4 col-md-3\"><img src=\"resources/images/demo-pie.png\"></div>\n",
       "\t  <div class=\"col-xs-6 col-sm-4 col-md-3\"><img src=\"resources/images/demo-pie.png\"></div>\n",
       "\t  <div class=\"col-xs-6 col-sm-4 col-md-3\"><img src=\"resources/images/demo-pie.png\"></div>\n",
       "\t  <div class=\"col-xs-6 col-sm-4 col-md-3\"><img src=\"resources/images/demo-pie.png\"></div>\n",
       "\t  <div class=\"col-xs-6 col-sm-4 col-md-3\"><img src=\"resources/images/demo-pie.png\"></div>\n",
       "\t  <div class=\"col-xs-6 col-sm-4 col-md-3\"><img src=\"resources/images/demo-pie.png\"></div>\n",
       "\t  <div class=\"col-xs-6 col-sm-4 col-md-3\"><img src=\"resources/images/demo-pie.png\"></div>\n",
       "\t  <div class=\"col-xs-6 col-sm-4 col-md-3\"><img src=\"resources/images/demo-pie.png\"></div>\n",
       "\t  <div class=\"col-xs-6 col-sm-4 col-md-3\"><img src=\"resources/images/demo-pie.png\"></div>\n",
       "\t  <div class=\"col-xs-6 col-sm-4 col-md-3\"><img src=\"resources/images/demo-pie.png\"></div>\n",
       "\t  <div class=\"col-xs-6 col-sm-4 col-md-3\"><img src=\"resources/images/demo-pie.png\"></div>\n",
       "\t</div>\n",
       "\n",
       "\t<h3>SVG Shapes</h3>\n",
       "\t<p>Click the orange circle to animate. Data visualizations created in SVG tend to be sharper and clearer than images. Events like clicking, hovering and dragging can be added as well to convey information.</p>\n",
       "\t<svg width=\"100%\">\t\t\n",
       "\t\t<circle id=\"orange-circle\" r=\"35\" cx=\"50\" cy=\"50\" fill=\"orange\" \n",
       "\t\t style=\"stroke: black; stroke-width: 1px;\"/>\n",
       "\t\t<animate \n",
       "\t    xlink:href=\"#orange-circle\"\n",
       "\t    attributeName=\"cx\"\t    \n",
       "\t    from=\"50\"\n",
       "\t    to=\"450\" \n",
       "\t    dur=\"5s\"\n",
       "\t    begin=\"click\"\n",
       "\t    fill=\"freeze\" \n",
       "\t    d=\"circ-anim\" />\n",
       "\t</svg>\n",
       "\n",
       "\t<h2>Bootstrap Buttons</h2>\n",
       "\t<p>These could be integrated into interactive visualizations</p>\n",
       "\t<br>\n",
       "\t<!-- Standard button -->\n",
       "\t<button type=\"button\" class=\"btn btn-default\">Default</button>\n",
       "\t<!-- Provides extra visual weight and identifies the primary action in a set of buttons -->\n",
       "\t<button type=\"button\" class=\"btn btn-primary\">Primary</button>\n",
       "\t<!-- Indicates a successful or positive action -->\n",
       "\t<button type=\"button\" class=\"btn btn-success\">Success</button>\n",
       "\t<!-- Contextual button for informational alert messages -->\n",
       "\t<button type=\"button\" class=\"btn btn-info\">Info</button>\n",
       "\t<!-- Indicates caution should be taken with this action -->\n",
       "\t<button type=\"button\" class=\"btn btn-warning\">Warning</button>\n",
       "\t<!-- Indicates a dangerous or potentially negative action -->\n",
       "\t<button type=\"button\" class=\"btn btn-danger\">Danger</button>\n",
       "\t<!-- Deemphasize a button by making it look like a link while maintaining button behavior -->\n",
       "\t<button type=\"button\" class=\"btn btn-link\">Link</button>\n",
       "\n",
       "\t<h2>Tabs</h2>\n",
       "\t<br>\n",
       "\t<div id=\"exTab2\" class=\"container\">\t\n",
       "\t\t<ul class=\"nav nav-tabs\">\n",
       "\t\t\t\t<li class=\"active\">\n",
       "\t        <a  href=\"#1\" data-toggle=\"tab\">View 1</a>\n",
       "\t\t\t\t</li>\n",
       "\t\t\t\t<li><a href=\"#2\" data-toggle=\"tab\">View 2</a>\n",
       "\t\t\t\t</li>\n",
       "\t\t\t\t<li><a href=\"#3\" data-toggle=\"tab\">View 3</a>\n",
       "\t\t\t\t</li>\n",
       "\t\t</ul>\n",
       "\n",
       "\t\t<div class=\"tab-content \">\n",
       "\t\t  <div class=\"tab-pane active\" id=\"1\">\n",
       "\t          <p>Content in View 1 here</p>\n",
       "\t          <img src=\"resources/images/builder-table.png\">\n",
       "\t\t  </div>\n",
       "\t\t<div class=\"tab-pane\" id=\"2\">\n",
       "\t    \t  <img src=\"resources/images/builder-bar.png\">\n",
       "\t\t</div>\n",
       "\t\t<div class=\"tab-pane\" id=\"3\">\n",
       "\t    \t<img src=\"resources/images/builder-area.png\">\n",
       "\t\t</div>\n",
       "\t\t</div>\n",
       "\t</div>\n",
       "\t\n",
       "\t<hr>\n",
       "\n",
       "\t<h3>Here's Some Media</h3>\n",
       "\t<div class=\"container\">\n",
       "\t\t<div class=\"row\">\n",
       "\t\t\t<div class=\"col-xs-12 col-sm-6 col-md-4\">\n",
       "\t\t\t\t<h3>Images</h3>\n",
       "\t\t\t\t<img id=\"andrew\" class=\"img-responsive\" src=\"resources/images/andrew.jpg\">\n",
       "\t\t\t</div>\n",
       "\t\t</div>\n",
       "\t\t<div class=\"row\">\n",
       "\t\t\t<div class=\"col-xs-12 col-sm-6 col-md-4\">\n",
       "\t\t\t\t<h3>Embedded Video</h3>\t\t\t\t\n",
       "\t\t\t\t<!-- 4:3 aspect ratio -->\n",
       "\t\t\t\t<iframe width=\"600\" height=\"300\" src=\"https://www.youtube.com/embed/MyP5c_ttdbw\" frameborder=\"0\" allowfullscreen></iframe>\n",
       "\t\t\t</div>\n",
       "\t\t</div>\n",
       "\t\t\n",
       "\t</div>\n",
       "\n",
       "\t\n",
       "\t\n",
       "\n",
       "\t\n",
       "</body>\n",
       "</html>"
      ],
      "text/plain": [
       "<IPython.core.display.HTML object>"
      ]
     },
     "metadata": {},
     "output_type": "display_data"
    }
   ],
   "source": [
    "foo = requests.get(NOTEBOOK_URL + 'intermediate-demo.html')\n",
    "display(HTML(foo.text))"
   ]
  },
  {
   "cell_type": "code",
   "execution_count": null,
   "metadata": {
    "collapsed": true
   },
   "outputs": [],
   "source": []
  }
 ],
 "metadata": {
  "kernelspec": {
   "display_name": "Python 3",
   "language": "python",
   "name": "python3"
  },
  "language_info": {
   "codemirror_mode": {
    "name": "ipython",
    "version": 3
   },
   "file_extension": ".py",
   "mimetype": "text/x-python",
   "name": "python",
   "nbconvert_exporter": "python",
   "pygments_lexer": "ipython3",
   "version": "3.5.1"
  },
  "widgets": {
   "state": {},
   "version": "1.1.1"
  }
 },
 "nbformat": 4,
 "nbformat_minor": 0
}
