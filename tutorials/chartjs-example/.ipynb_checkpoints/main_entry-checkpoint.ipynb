{
 "cells": [
  {
   "cell_type": "code",
   "execution_count": 1,
   "metadata": {
    "collapsed": true
   },
   "outputs": [],
   "source": [
    "import requests\n",
    "from IPython.display import display, HTML"
   ]
  },
  {
   "cell_type": "code",
   "execution_count": 2,
   "metadata": {
    "collapsed": false
   },
   "outputs": [
    {
     "data": {
      "application/javascript": [
       "var nb = IPython.notebook;\n",
       "var kernel = IPython.notebook.kernel;\n",
       "var webPath = nb.notebook_path.replace(nb.notebook_name,'');\n",
       "var webOrigin = location.origin;\n",
       "var fullPath = webOrigin + '/notebooks/' + webPath;\n",
       "console.log(fullPath)\n",
       "kernel.execute(\"NOTEBOOK_URL = '\" + fullPath + \"'\");"
      ],
      "text/plain": [
       "<IPython.core.display.Javascript object>"
      ]
     },
     "metadata": {},
     "output_type": "display_data"
    }
   ],
   "source": [
    "%%javascript\n",
    "var nb = IPython.notebook;\n",
    "var kernel = IPython.notebook.kernel;\n",
    "var webPath = nb.notebook_path.replace(nb.notebook_name,'');\n",
    "var webOrigin = location.origin;\n",
    "var fullPath = webOrigin + '/notebooks/' + webPath;\n",
    "console.log(fullPath)\n",
    "kernel.execute(\"NOTEBOOK_URL = '\" + fullPath + \"'\");"
   ]
  },
  {
   "cell_type": "code",
   "execution_count": 3,
   "metadata": {
    "collapsed": false
   },
   "outputs": [
    {
     "name": "stdout",
     "output_type": "stream",
     "text": [
      "http://192.168.99.100:8888/notebooks/mywork/jupyter-notebooks/tutorials/chartjs-example/\n"
     ]
    }
   ],
   "source": [
    "print(NOTEBOOK_URL)"
   ]
  },
  {
   "cell_type": "code",
   "execution_count": 8,
   "metadata": {
    "collapsed": false
   },
   "outputs": [],
   "source": [
    "r = requests.get(NOTEBOOK_URL + 'index.html')"
   ]
  },
  {
   "cell_type": "code",
   "execution_count": 9,
   "metadata": {
    "collapsed": false
   },
   "outputs": [
    {
     "data": {
      "text/html": [
       "<!-- <html>\n",
       "<head>\n",
       "\t<title></title>\n",
       "\t<link href=\"https://fonts.googleapis.com/css?family=Questrial\" rel=\"stylesheet\">\n",
       "\t<link rel=\"stylesheet\" type=\"text/css\" href=\"style.css\">\n",
       "</head>\n",
       "<body> -->\n",
       "\t<h2>Simple Bar Graph</h2>\n",
       "\t<div class=\"graph-wrapper\">\n",
       "\t\t<canvas id=\"bar-graph\" width=\"500\" height=\"300\"></canvas>\n",
       "\t</div>\t\n",
       "\n",
       "\t<script type=\"text/javascript\" src=\"Chart.min.js\"></script>\n",
       "\t<script type=\"text/javascript\" src=\"app.js\"></script>\n",
       "<!-- </body>\n",
       "</html> -->"
      ],
      "text/plain": [
       "<IPython.core.display.HTML object>"
      ]
     },
     "metadata": {},
     "output_type": "display_data"
    }
   ],
   "source": [
    "display(HTML(r.text))"
   ]
  },
  {
   "cell_type": "code",
   "execution_count": null,
   "metadata": {
    "collapsed": true
   },
   "outputs": [],
   "source": []
  }
 ],
 "metadata": {
  "kernelspec": {
   "display_name": "Python 3",
   "language": "python",
   "name": "python3"
  },
  "language_info": {
   "codemirror_mode": {
    "name": "ipython",
    "version": 3
   },
   "file_extension": ".py",
   "mimetype": "text/x-python",
   "name": "python",
   "nbconvert_exporter": "python",
   "pygments_lexer": "ipython3",
   "version": "3.5.1"
  },
  "widgets": {
   "state": {},
   "version": "1.1.1"
  }
 },
 "nbformat": 4,
 "nbformat_minor": 0
}
