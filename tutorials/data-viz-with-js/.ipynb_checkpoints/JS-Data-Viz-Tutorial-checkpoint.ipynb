{
 "cells": [
  {
   "cell_type": "markdown",
   "metadata": {},
   "source": [
    "# Data Viz with JavaScript"
   ]
  },
  {
   "cell_type": "markdown",
   "metadata": {},
   "source": [
    "This notebook shows some approaches I've tried to run javascript in a jupyter notebook. Despite docmentation to the contrary, a couple of these solutions don't work for some reason."
   ]
  },
  {
   "cell_type": "markdown",
   "metadata": {},
   "source": [
    "### Approach A: Use IPython.display.Javascript() method"
   ]
  },
  {
   "cell_type": "markdown",
   "metadata": {},
   "source": [
    "Load the library"
   ]
  },
  {
   "cell_type": "code",
   "execution_count": 11,
   "metadata": {
    "collapsed": true
   },
   "outputs": [],
   "source": [
    "from IPython.display import Javascript, display, HTML"
   ]
  },
  {
   "cell_type": "markdown",
   "metadata": {},
   "source": [
    "Here's the documentation on this method...\n",
    "https://ipython.org/ipython-doc/3/api/generated/IPython.display.html\n",
    "\n",
    "And here's the specifics on the Javascript method:\n",
    " \n",
    " class IPython.display.Javascript(data=None, url=None, filename=None, lib=None, css=None)\n",
    "\n",
    "Create a Javascript display object given raw data.\n",
    "\n",
    "When this object is returned by an expression or passed to the display function, it will result in the data being displayed in the frontend. If the data is a URL, the data will first be downloaded and then displayed.\n",
    "\n",
    "In the Notebook, the containing element will be available as element, and jQuery will be available. Content appended to element will be visible in the output area.\n",
    "\n",
    "Parameters:\t\n",
    "\n",
    "        data : unicode, str or bytes\n",
    "\n",
    "            The Javascript source code or a URL to download it from.\n",
    "\n",
    "        url : unicode\n",
    "\n",
    "            A URL to download the data from.\n",
    "\n",
    "        filename : unicode\n",
    "\n",
    "            Path to a local file to load the data from.\n",
    "\n",
    "        lib : list or str\n",
    "\n",
    " A sequence of Javascript library URLs to load asynchronously before running the source code. The full URLs of the libraries should be given. A single Javascript library URL can also be given as a string.\n",
    "\n",
    "        css: : list or str\n",
    "\n",
    "A sequence of css files to load before running the source code. The full URLs of the css files should be given. A single css URL can also be given as a string.\n"
   ]
  },
  {
   "cell_type": "markdown",
   "metadata": {},
   "source": [
    "So we should be able to call the function, pass our functionality (app.js) along with a lib parameter which is our dependency. However, this doesn't work. Open the file app.js, and you can see \"Not defined\" is returned if the d3 object doesn't exist"
   ]
  },
  {
   "cell_type": "code",
   "execution_count": 12,
   "metadata": {
    "collapsed": false
   },
   "outputs": [
    {
     "data": {
      "application/javascript": [
       "$.getScript(\"https://cdnjs.cloudflare.com/ajax/libs/d3/4.1.1/d3.min.js\", function () {\n",
       "!function(global) {\t\n",
       "\tvar ver = 'Not defined' || d3;\n",
       "\t$(element).append('D3 version...' + ver);\n",
       "}(window)});\n"
      ],
      "text/plain": [
       "<IPython.core.display.Javascript object>"
      ]
     },
     "execution_count": 12,
     "metadata": {},
     "output_type": "execute_result"
    }
   ],
   "source": [
    "Javascript(filename='app.js', lib='https://cdnjs.cloudflare.com/ajax/libs/d3/4.1.1/d3.min.js')"
   ]
  },
  {
   "cell_type": "markdown",
   "metadata": {
    "collapsed": true
   },
   "source": [
    "### Approach B: HTTP Request on js file"
   ]
  },
  {
   "cell_type": "markdown",
   "metadata": {},
   "source": [
    "Import the requests object, along with display and HTML methods from IPython.display"
   ]
  },
  {
   "cell_type": "code",
   "execution_count": 13,
   "metadata": {
    "collapsed": true
   },
   "outputs": [],
   "source": [
    "import requests\n",
    "from IPython.display import Javascript, display, HTML"
   ]
  },
  {
   "cell_type": "code",
   "execution_count": 25,
   "metadata": {
    "collapsed": false
   },
   "outputs": [],
   "source": [
    "req_url = 'https://cdnjs.cloudflare.com/ajax/libs/d3/4.1.1/d3.min.js'\n",
    "req = requests.get(req_url)\n"
   ]
  },
  {
   "cell_type": "code",
   "execution_count": null,
   "metadata": {
    "collapsed": true
   },
   "outputs": [],
   "source": []
  }
 ],
 "metadata": {
  "kernelspec": {
   "display_name": "Python 3",
   "language": "python",
   "name": "python3"
  },
  "language_info": {
   "codemirror_mode": {
    "name": "ipython",
    "version": 3
   },
   "file_extension": ".py",
   "mimetype": "text/x-python",
   "name": "python",
   "nbconvert_exporter": "python",
   "pygments_lexer": "ipython3",
   "version": "3.5.1"
  },
  "widgets": {
   "state": {},
   "version": "1.1.1"
  }
 },
 "nbformat": 4,
 "nbformat_minor": 0
}
