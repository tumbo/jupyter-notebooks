{
 "cells": [
  {
   "cell_type": "markdown",
   "metadata": {},
   "source": [
    "# Data Viz with JavaScript"
   ]
  },
  {
   "cell_type": "markdown",
   "metadata": {},
   "source": [
    "This notebook shows some approaches I've tried to run javascript in a jupyter notebook. Despite docmentation to the contrary, a couple of these solutions don't work for some reason."
   ]
  },
  {
   "cell_type": "markdown",
   "metadata": {},
   "source": [
    "### Approach A: Use IPython.display.Javascript() method"
   ]
  },
  {
   "cell_type": "markdown",
   "metadata": {},
   "source": [
    "Load the library"
   ]
  },
  {
   "cell_type": "code",
   "execution_count": 1,
   "metadata": {
    "collapsed": true
   },
   "outputs": [],
   "source": [
    "from IPython.display import Javascript, display, HTML"
   ]
  },
  {
   "cell_type": "markdown",
   "metadata": {},
   "source": [
    "Here's the documentation on this method...\n",
    "https://ipython.org/ipython-doc/3/api/generated/IPython.display.html\n",
    "\n",
    "And here are the specifics on the Javascript method:\n",
    " \n",
    " class IPython.display.Javascript(data=None, url=None, filename=None, lib=None, css=None)\n",
    "\n",
    "Create a Javascript display object given raw data.\n",
    "\n",
    "When this object is returned by an expression or passed to the display function, it will result in the data being displayed in the frontend. If the data is a URL, the data will first be downloaded and then displayed.\n",
    "\n",
    "In the Notebook, the containing element will be available as element, and jQuery will be available. Content appended to element will be visible in the output area.\n",
    "\n",
    "Parameters:\t\n",
    "\n",
    "        data : unicode, str or bytes\n",
    "\n",
    "            The Javascript source code or a URL to download it from.\n",
    "\n",
    "        url : unicode\n",
    "\n",
    "            A URL to download the data from.\n",
    "\n",
    "        filename : unicode\n",
    "\n",
    "            Path to a local file to load the data from.\n",
    "\n",
    "        lib : list or str\n",
    "\n",
    " A sequence of Javascript library URLs to load asynchronously before running the source code. The full URLs of the libraries should be given. A single Javascript library URL can also be given as a string.\n",
    "\n",
    "        css: : list or str\n",
    "\n",
    "A sequence of css files to load before running the source code. The full URLs of the css files should be given. A single css URL can also be given as a string.\n"
   ]
  },
  {
   "cell_type": "markdown",
   "metadata": {},
   "source": [
    "So we should be able to call the function, pass our functionality (app.js) along with a lib parameter which is our dependency. However, this doesn't work. Open the file app.js, and you can see \"Not defined\" is returned if the d3 object doesn't exist"
   ]
  },
  {
   "cell_type": "code",
   "execution_count": 3,
   "metadata": {
    "collapsed": false
   },
   "outputs": [
    {
     "data": {
      "application/javascript": [
       "$.getScript(\"https://d3js.org/d3.v4.min.js\", function () {\n",
       "!function(global) {\t\n",
       "\tconsole.log('foo foo foo');\t\n",
       "}(window)});\n"
      ],
      "text/plain": [
       "<IPython.core.display.Javascript object>"
      ]
     },
     "execution_count": 3,
     "metadata": {},
     "output_type": "execute_result"
    }
   ],
   "source": [
    "Javascript(filename='app.js', lib='https://d3js.org/d3.v4.min.js')"
   ]
  },
  {
   "cell_type": "markdown",
   "metadata": {
    "collapsed": true
   },
   "source": [
    "### Approach B: HTTP Request on js file"
   ]
  },
  {
   "cell_type": "markdown",
   "metadata": {},
   "source": [
    "Import the requests object, along with display and HTML methods from IPython.display"
   ]
  },
  {
   "cell_type": "code",
   "execution_count": 35,
   "metadata": {
    "collapsed": true
   },
   "outputs": [],
   "source": [
    "import requests\n",
    "from IPython.display import Javascript, display, HTML"
   ]
  },
  {
   "cell_type": "code",
   "execution_count": 26,
   "metadata": {
    "collapsed": false
   },
   "outputs": [
    {
     "data": {
      "application/javascript": [
       "var nb = IPython.notebook;\n",
       "var kernel = IPython.notebook.kernel;\n",
       "var webPath = nb.notebook_path.replace(nb.notebook_name,'');\n",
       "var webOrigin = location.origin;\n",
       "var fullPath = webOrigin + '/notebooks/' + webPath;\n",
       "console.log(fullPath)\n",
       "kernel.execute(\"NOTEBOOK_URL = '\" + fullPath + \"'\");"
      ],
      "text/plain": [
       "<IPython.core.display.Javascript object>"
      ]
     },
     "metadata": {},
     "output_type": "display_data"
    }
   ],
   "source": [
    "%%javascript\n",
    "var nb = IPython.notebook;\n",
    "var kernel = IPython.notebook.kernel;\n",
    "var webPath = nb.notebook_path.replace(nb.notebook_name,'');\n",
    "var webOrigin = location.origin;\n",
    "var fullPath = webOrigin + '/notebooks/' + webPath;\n",
    "console.log(fullPath)\n",
    "kernel.execute(\"NOTEBOOK_URL = '\" + fullPath + \"'\");"
   ]
  },
  {
   "cell_type": "code",
   "execution_count": 32,
   "metadata": {
    "collapsed": false
   },
   "outputs": [
    {
     "data": {
      "application/javascript": [
       "!function(global) {\t\n",
       "\tglobal.d5 = 'i am d5';\n",
       "}(window)"
      ],
      "text/plain": [
       "<IPython.core.display.Javascript object>"
      ]
     },
     "execution_count": 32,
     "metadata": {},
     "output_type": "execute_result"
    }
   ],
   "source": [
    "req_url = 'app.js'\n",
    "# req = requests.get(NOTEBOOK_URL + req_url)\n",
    "Javascript(filename='app.js')"
   ]
  },
  {
   "cell_type": "code",
   "execution_count": 37,
   "metadata": {
    "collapsed": false
   },
   "outputs": [
    {
     "data": {
      "text/html": [
       "<script type=\"text/javascript\" src=\"app.js\"></script>"
      ],
      "text/plain": [
       "<IPython.core.display.HTML object>"
      ]
     },
     "execution_count": 37,
     "metadata": {},
     "output_type": "execute_result"
    }
   ],
   "source": [
    "req_url = 'index.html'\n",
    "req = requests.get(NOTEBOOK_URL + req_url);\n",
    "HTML(req.text)"
   ]
  },
  {
   "cell_type": "code",
   "execution_count": 44,
   "metadata": {
    "collapsed": false
   },
   "outputs": [
    {
     "data": {
      "text/plain": [
       "'/home/jovyan/.jupyter'"
      ]
     },
     "execution_count": 44,
     "metadata": {},
     "output_type": "execute_result"
    }
   ],
   "source": [
    "from jupyter_core.paths import jupyter_config_dir\n",
    "jupyter_dir = jupyter_config_dir()\n",
    "jupyter_dir"
   ]
  },
  {
   "cell_type": "code",
   "execution_count": 45,
   "metadata": {
    "collapsed": true
   },
   "outputs": [],
   "source": [
    "import os.path\n",
    "custom_js_path = os.path.join(jupyter_dir, 'custom', 'custom.js')"
   ]
  },
  {
   "cell_type": "code",
   "execution_count": 46,
   "metadata": {
    "collapsed": false
   },
   "outputs": [
    {
     "name": "stdout",
     "output_type": "stream",
     "text": [
      "You don't have a custom.js file\n"
     ]
    }
   ],
   "source": [
    "#  my custom js\n",
    "if os.path.isfile(custom_js_path):\n",
    "    with open(custom_js_path) as f:\n",
    "        print(f.read())\n",
    "else:\n",
    "    print(\"You don't have a custom.js file\")"
   ]
  },
  {
   "cell_type": "code",
   "execution_count": 1,
   "metadata": {
    "collapsed": false
   },
   "outputs": [
    {
     "name": "stdout",
     "output_type": "stream",
     "text": [
      "jovyan\r\n"
     ]
    }
   ],
   "source": [
    "!whoami"
   ]
  },
  {
   "cell_type": "code",
   "execution_count": 2,
   "metadata": {
    "collapsed": false
   },
   "outputs": [
    {
     "name": "stdout",
     "output_type": "stream",
     "text": [
      "total 16\r\n",
      "drwxr-xr-x  2 jovyan users 4096 Jul 27 19:12 .\r\n",
      "drwxr-xr-x 17 jovyan users 4096 Jul 27 19:12 ..\r\n",
      "-rw-rw-r--  1 jovyan users 1353 Oct 25  2015 jupyter_notebook_config.py\r\n",
      "-rw-r--r--  1 jovyan users   26 Jul 27 19:12 migrated\r\n"
     ]
    }
   ],
   "source": [
    "!ls -al /home/jovyan/.jupyter"
   ]
  },
  {
   "cell_type": "markdown",
   "metadata": {},
   "source": [
    "### Approach C: require.js\n",
    "http://blog.thedataincubator.com/2015/08/embedding-d3-in-an-ipython-notebook/\n",
    "\n",
    "I found this to be buggy as well. An error message display in the notebook, and js console containing the included library."
   ]
  },
  {
   "cell_type": "code",
   "execution_count": 8,
   "metadata": {
    "collapsed": false
   },
   "outputs": [],
   "source": [
    "%%javascript\n",
    "console.log(requirejs);\n",
    "requirejs.config({paths: {\"d3\": \"https://d3js.org/d3.v4.min\"},\n",
    "                  myApp: {\"myApp\": \"app\"}\n",
    "                }\n",
    "               );\n",
    "\n",
    " requirejs([\"d3\",\"myApp\"], function(a,b) {\n",
    "    \n",
    " });"
   ]
  },
  {
   "cell_type": "code",
   "execution_count": null,
   "metadata": {
    "collapsed": true
   },
   "outputs": [],
   "source": []
  },
  {
   "cell_type": "code",
   "execution_count": 32,
   "metadata": {
    "collapsed": false
   },
   "outputs": [],
   "source": [
    "# import libraries (including our short d3_lib script)\n",
    "from IPython.core.display import HTML"
   ]
  },
  {
   "cell_type": "code",
   "execution_count": 33,
   "metadata": {
    "collapsed": false
   },
   "outputs": [
    {
     "data": {
      "text/html": [
       "<script src=\"https://d3js.org/d3.v4.min.js\"></script>"
      ],
      "text/plain": [
       "<IPython.core.display.HTML object>"
      ]
     },
     "execution_count": 33,
     "metadata": {},
     "output_type": "execute_result"
    }
   ],
   "source": [
    "HTML('<script src=\"https://d3js.org/d3.v4.min.js\"></script>')"
   ]
  },
  {
   "cell_type": "markdown",
   "metadata": {},
   "source": [
    "### Approach D: Using HTML python method\n",
    "https://github.com/stitchfix/d3-jupyter-tutorial/blob/master/PyData-D3-in-Jupyter.pdf\n",
    "\n",
    "Yet another thing that doesn't work despite examples to the contrary"
   ]
  },
  {
   "cell_type": "markdown",
   "metadata": {},
   "source": [
    "## Final Approach: Jupyter Documented Approach\n",
    "#### After everything else failed, I realized that the pace of development in jupyter is probably breaking older functionality.  The recommended way of including javascript in a notebook is via common.js.  I couldn't seem to get access to this file in my dockerized jupyter environment.  So I have another notebook I created in an environment running anaconda"
   ]
  },
  {
   "cell_type": "markdown",
   "metadata": {},
   "source": [
    "### Another approach I didn't try:\n",
    "https://github.com/ipython-contrib/jupyter_contrib_nbextensions\n",
    "\n",
    "notebook extentions seem to be a good way to go, but as with the other methods, this library is not maintained by the core jupyter team, and is very likely to break with future updates, and require constant updates before it's stable"
   ]
  },
  {
   "cell_type": "code",
   "execution_count": null,
   "metadata": {
    "collapsed": true
   },
   "outputs": [],
   "source": []
  }
 ],
 "metadata": {
  "kernelspec": {
   "display_name": "Python 3",
   "language": "python",
   "name": "python3"
  },
  "language_info": {
   "codemirror_mode": {
    "name": "ipython",
    "version": 3
   },
   "file_extension": ".py",
   "mimetype": "text/x-python",
   "name": "python",
   "nbconvert_exporter": "python",
   "pygments_lexer": "ipython3",
   "version": "3.5.1"
  },
  "widgets": {
   "state": {},
   "version": "1.1.1"
  }
 },
 "nbformat": 4,
 "nbformat_minor": 0
}
