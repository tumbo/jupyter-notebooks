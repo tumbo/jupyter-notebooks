{
 "cells": [
  {
   "cell_type": "markdown",
   "metadata": {},
   "source": [
    "# Creating Interactive Data Visualizations in a Jupyter Notebook Using HTML, CSS and JavaScript"
   ]
  },
  {
   "cell_type": "markdown",
   "metadata": {},
   "source": [
    "#### Building interactive data visualizations with html, jQuery, bootstrap CSS, and various javascript libraries"
   ]
  },
  {
   "cell_type": "markdown",
   "metadata": {},
   "source": [
    "First thing, import the python \"requests\" library and methods for rendering HTML"
   ]
  },
  {
   "cell_type": "code",
   "execution_count": 2,
   "metadata": {
    "collapsed": true
   },
   "outputs": [],
   "source": [
    "import requests"
   ]
  },
  {
   "cell_type": "code",
   "execution_count": 3,
   "metadata": {
    "collapsed": true
   },
   "outputs": [],
   "source": [
    "from IPython.display import Javascript, display, HTML"
   ]
  },
  {
   "cell_type": "markdown",
   "metadata": {},
   "source": [
    "This next part is a bit of hackery to get the url for the notebook so we can do http requests on various files. We'll use javascript magicks to get the url to our current filepath and use the kernel execute command to create a variable to use within our Jupyter (Python 3) environment"
   ]
  },
  {
   "cell_type": "code",
   "execution_count": 42,
   "metadata": {
    "collapsed": false
   },
   "outputs": [
    {
     "data": {
      "application/javascript": [
       "var nb = IPython.notebook;\n",
       "var kernel = IPython.notebook.kernel;\n",
       "var webPath = nb.notebook_path.replace(nb.notebook_name,'');\n",
       "var webOrigin = location.origin;\n",
       "var fullPath = webOrigin + '/notebooks/' + webPath;\n",
       "console.log(fullPath)\n",
       "kernel.execute(\"NOTEBOOK_URL = '\" + fullPath + \"'\");\n",
       "// var originCommand = \"NOTEBOOK_ORIGIN = '\" + location.origin + \"'\";\n",
       "// var pathCommand = \"NOTEBOOK_PATH = '\" + nb.notebook.path;\n",
       "// var foo.replace(IPython.notebook.notebook_name,'')\n",
       "// var pathCommand = \"NOTEBOOK_ORIGIN = '\" + location.origin + \"'\";\n",
       "// kernel.execute(baseCommand);\n",
       "// kernel.execute(command);"
      ],
      "text/plain": [
       "<IPython.core.display.Javascript object>"
      ]
     },
     "metadata": {},
     "output_type": "display_data"
    }
   ],
   "source": [
    "%%javascript\n",
    "var nb = IPython.notebook;\n",
    "var kernel = IPython.notebook.kernel;\n",
    "var webPath = nb.notebook_path.replace(nb.notebook_name,'');\n",
    "var webOrigin = location.origin;\n",
    "var fullPath = webOrigin + '/notebooks/' + webPath;\n",
    "console.log(fullPath)\n",
    "kernel.execute(\"NOTEBOOK_URL = '\" + fullPath + \"'\");"
   ]
  },
  {
   "cell_type": "markdown",
   "metadata": {},
   "source": [
    "Print out the URL to confirm"
   ]
  },
  {
   "cell_type": "code",
   "execution_count": 43,
   "metadata": {
    "collapsed": false
   },
   "outputs": [
    {
     "name": "stdout",
     "output_type": "stream",
     "text": [
      "http://192.168.99.100:8888/notebooks/mywork/data_science/\n"
     ]
    }
   ],
   "source": [
    "print(NOTEBOOK_URL)"
   ]
  },
  {
   "cell_type": "markdown",
   "metadata": {},
   "source": [
    "Now do an http request on our first sample html... test.html"
   ]
  },
  {
   "cell_type": "code",
   "execution_count": 44,
   "metadata": {
    "collapsed": false
   },
   "outputs": [
    {
     "name": "stdout",
     "output_type": "stream",
     "text": [
      "<html>\n",
      "<head></head>\n",
      "\n",
      "<body>\n",
      "    <h4>POC Demo!!!!</h4>\n",
      "</body>\n",
      "\n",
      "</html>\n"
     ]
    }
   ],
   "source": [
    "r = requests.get(NOTEBOOK_URL + 'test.html')\n",
    "print(r.text)"
   ]
  },
  {
   "cell_type": "markdown",
   "metadata": {},
   "source": [
    "We just printed out the html, now we'll actually display it in the browser using the \"display\" and HTML method imported above"
   ]
  },
  {
   "cell_type": "code",
   "execution_count": 13,
   "metadata": {
    "collapsed": false
   },
   "outputs": [
    {
     "data": {
      "text/html": [
       "<html>\n",
       "<head></head>\n",
       "\n",
       "<body>\n",
       "    <h4>POC Demo!!!!</h4>\n",
       "</body>\n",
       "\n",
       "</html>"
      ],
      "text/plain": [
       "<IPython.core.display.HTML object>"
      ]
     },
     "metadata": {},
     "output_type": "display_data"
    }
   ],
   "source": [
    "display(HTML(r.text))"
   ]
  },
  {
   "cell_type": "markdown",
   "metadata": {},
   "source": [
    "### Now let's do something more complicated using imported CSS and JavaScript"
   ]
  },
  {
   "cell_type": "code",
   "execution_count": 54,
   "metadata": {
    "collapsed": false
   },
   "outputs": [
    {
     "data": {
      "text/html": [
       "<html>\n",
       "<head>\n",
       "\t<title>Jupyter</title>\n",
       "\t<link rel=\"stylesheet\" type=\"text/css\" href=\"resources/bootstrap.min.css\">\n",
       "\t<style type=\"text/css\">\n",
       "\t\t#andrew {\n",
       "\t\t\tmargin-top: 10px;\n",
       "\t\t\tborder: 1px solid #ccc;\n",
       "\t\t}\n",
       "\t</style>\n",
       "</head>\n",
       "<body>\n",
       "\t<script type=\"text/javascript\" src=\"resources/jquery.min.js\"></script>\n",
       "\t<script type=\"text/javascript\" src=\"resources/bootstrap.min.js\"></script>\n",
       "\t<script type=\"text/javascript\" src=\"resources/intermediate-app.js\"></script>\n",
       "\t\n",
       "\n",
       "\t<h2>Intermediate Demo</h2>\n",
       "\t<div id=\"foo\"></div>\n",
       "\n",
       "\t<h3>Here's Some Media</h3>\n",
       "\t<div class=\"container\">\n",
       "\t\t<div class=\"row\">\n",
       "\t\t\t<div class=\"col-xs-12 col-sm-6 col-md-4\">\n",
       "\t\t\t\t<h3>Images</h3>\n",
       "\t\t\t\t<img id=\"andrew\" class=\"img-responsive\" src=\"resources/andrew.jpg\">\n",
       "\t\t\t</div>\n",
       "\t\t</div>\n",
       "\t\t<div class=\"row\">\n",
       "\t\t\t<div class=\"col-xs-12 col-sm-6 col-md-4\">\n",
       "\t\t\t\t<h3>Embedded Video</h3>\t\t\t\t\n",
       "\t\t\t\t<!-- 4:3 aspect ratio -->\n",
       "\t\t\t\t<iframe width=\"600\" height=\"300\" src=\"https://www.youtube.com/embed/MyP5c_ttdbw\" frameborder=\"0\" allowfullscreen></iframe>\n",
       "\t\t\t</div>\n",
       "\t\t</div>\n",
       "\t\t\n",
       "\t</div>\n",
       "\n",
       "\t<h3>An SVG Shape</h3>\n",
       "\t<div id=\"graph\"></div>\n",
       "\n",
       "\t<h3>Bootstrap Panel</h3>\n",
       "\t<div id=\"bs-demo\">\n",
       "\t\t<div class=\"container\">\n",
       "\t\t\t<div class=\"row\">\n",
       "\t\t\t\t<div class=\"panel\">\n",
       "\t\t\t\t\t<div class=\"panel-header\">\n",
       "\t\t\t\t\t\t<h5>Panel Header</h5>\n",
       "\t\t\t\t\t</div>\n",
       "\t\t\t\t\t<div class=\"panel-body\">\n",
       "\t\t\t\t\t\t<p>Boostrap panel body content</p>\n",
       "\t\t\t\t\t</div>\n",
       "\t\t\t\t</div>\n",
       "\t\t\t</div>\n",
       "\t\t</div>\n",
       "\t</div>\n",
       "</body>\n",
       "</html>"
      ],
      "text/plain": [
       "<IPython.core.display.HTML object>"
      ]
     },
     "metadata": {},
     "output_type": "display_data"
    }
   ],
   "source": [
    "foo = requests.get(NOTEBOOK_URL + 'intermediate-demo.html')\n",
    "display(HTML(foo.text))"
   ]
  },
  {
   "cell_type": "markdown",
   "metadata": {},
   "source": [
    "## Now let's pull some data!!"
   ]
  },
  {
   "cell_type": "markdown",
   "metadata": {},
   "source": [
    "#### We have a few data sets\n",
    "* HDX Turkey Data"
   ]
  },
  {
   "cell_type": "markdown",
   "metadata": {},
   "source": [
    "##### Start with jQuery.get()"
   ]
  },
  {
   "cell_type": "code",
   "execution_count": 65,
   "metadata": {
    "collapsed": false
   },
   "outputs": [
    {
     "data": {
      "application/javascript": [
       "$.get('resources/data/turkey.csv', function(data) {\n",
       "    console.log(data);\n",
       "    IPython.notebook.kernel.execute(\"demo_data = \"+ data);\n",
       "})"
      ],
      "text/plain": [
       "<IPython.core.display.Javascript object>"
      ]
     },
     "metadata": {},
     "output_type": "display_data"
    }
   ],
   "source": [
    "%%javascript\n",
    "$.get('resources/data/turkey.csv', function(data) {\n",
    "    console.log(data);\n",
    "    IPython.notebook.kernel.execute(\"demo_data = \"+ data);\n",
    "})"
   ]
  },
  {
   "cell_type": "code",
   "execution_count": null,
   "metadata": {
    "collapsed": true
   },
   "outputs": [],
   "source": []
  }
 ],
 "metadata": {
  "kernelspec": {
   "display_name": "Python 3",
   "language": "python",
   "name": "python3"
  },
  "language_info": {
   "codemirror_mode": {
    "name": "ipython",
    "version": 3
   },
   "file_extension": ".py",
   "mimetype": "text/x-python",
   "name": "python",
   "nbconvert_exporter": "python",
   "pygments_lexer": "ipython3",
   "version": "3.5.1"
  },
  "widgets": {
   "state": {},
   "version": "1.1.1"
  }
 },
 "nbformat": 4,
 "nbformat_minor": 0
}
